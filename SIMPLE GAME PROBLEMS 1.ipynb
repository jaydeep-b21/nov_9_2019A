{
 "cells": [
  {
   "cell_type": "markdown",
   "metadata": {},
   "source": [
    "# (1) Build a simple guessing game where it will continuously ask the user to enter a number between 1 and 10. If the user's guesses matched, the user will score 10 points, and display the score. If the users' guess doesn’t match display the generated number. Also, if the user enters “q” then stop the game."
   ]
  },
  {
   "cell_type": "markdown",
   "metadata": {},
   "source": [
    "HINT : This type of situation, where you don’t know how many times a user will try to make the guess. You have to use an infinity loop. And you will have a special condition to break the loop.\n",
    "\n",
    "The following is an infinity loop.\n",
    "\n",
    "while True:\n",
    "\n",
    "\tprint(True)\n",
    "    \n",
    "Also, to create a random integer number, you will need to import the random module. In the random module, you can call the randint to generate a random integer. Besides, you can enter two parameters.\n",
    "\n",
    "The first parameter will be the smallest number and the last number is the highest number. Hence, every time you run the following code you will see a different number between 20 to 40.\n",
    "\n",
    "\n",
    "import random\n",
    "\n",
    "rand = random.randint(20,40)\n",
    "\n",
    "print(rand)"
   ]
  },
  {
   "cell_type": "code",
   "execution_count": 1,
   "metadata": {},
   "outputs": [
    {
     "name": "stdout",
     "output_type": "stream",
     "text": [
      "To stop anytime, enter: q\n",
      "Guess a number between 0 to 10: 5\n",
      "Your guess did not match\n",
      "The number was: 8\n",
      "Guess a number between 0 to 10: 7\n",
      "Your guess did not match\n",
      "The number was: 4\n",
      "Guess a number between 0 to 10: 2\n",
      "Your guess did not match\n",
      "The number was: 8\n",
      "Guess a number between 0 to 10: q\n",
      "Game Over.\n"
     ]
    }
   ],
   "source": [
    "import random\n",
    "print('To stop anytime, enter: q')\n",
    "score = 0\n",
    "while True:\n",
    "    num = random.randint(0,10)\n",
    "    guess = input(\"Guess a number between 0 to 10: \")\n",
    "    if guess == 'q':\n",
    "        print('Game Over.')\n",
    "        break\n",
    "    guess_num = int(guess)\n",
    "    if guess_num is num:\n",
    "        print('CONGRATS, you guessed it correctly')\n",
    "        score += 10\n",
    "        print('Your new score:', score)\n",
    "    else:\n",
    "        print('Your guess did not match')\n",
    "        print('The number was:', num)"
   ]
  },
  {
   "cell_type": "markdown",
   "metadata": {},
   "source": [
    "# (2) Build a simple Rock paper Scissor game."
   ]
  },
  {
   "cell_type": "markdown",
   "metadata": {},
   "source": [
    "HINT : You will write a lot of if-else. Think about it in a way that if the first player types rock, which one the second player should have picked to win the game. Otherwise, the second player will lose the game."
   ]
  },
  {
   "cell_type": "code",
   "execution_count": 2,
   "metadata": {},
   "outputs": [
    {
     "name": "stdout",
     "output_type": "stream",
     "text": [
      "First player: rock, paper or scissors: rock\n",
      "Second Player: rock, paper or scissors: scissors\n",
      "First player wins!\n"
     ]
    }
   ],
   "source": [
    "def get_winner(p1, p2):\n",
    "    if p1 == p2:\n",
    "        return \"It's a tie!\"\n",
    "    elif p1 == 'rock':\n",
    "        if p2 == 'scissors':\n",
    "            return \"First player wins!\"\n",
    "        else:\n",
    "            return \"Second Player wins!\"\n",
    "    elif p1 == 'scissors':\n",
    "        if p2 == 'paper':\n",
    "            return \"First player win!\"\n",
    "        else:\n",
    "            return\"Second player wins!\"\n",
    "    elif p1 == 'paper':\n",
    "        if p2 == 'rock':\n",
    "            return \"First player wins!\"\n",
    "        else:\n",
    "            return \"Second player win!\"\n",
    "    else:\n",
    "        return \"Invalid input!\"\n",
    "      \n",
    "player1 = input(\"First player: rock, paper or scissors: \")\n",
    "player2 = input(\"Second Player: rock, paper or scissors: \")\n",
    " \n",
    "print(get_winner(player1, player2))"
   ]
  },
  {
   "cell_type": "markdown",
   "metadata": {},
   "source": [
    "# (3) Create a Cows and Bulls game."
   ]
  },
  {
   "cell_type": "markdown",
   "metadata": {},
   "source": [
    "HINT: The Cows and Bulls is a number guessing game. In this game, the user guesses a number. Usually, the number will be a 4 digit number. However, here we will try with 2 digits number first.\n",
    "\n",
    "So, if the user guesses the number correctly, he/she will win. If they didn’t guess the exact number, then you will calculate the bulls and cows.\n",
    "\n",
    "Let’s say the number is: 8529\n",
    "\n",
    "And your guess is: 3428\n",
    "\n",
    "If you guess any position digit currently, you will get a bull. For your guess, you didn’t match the first, second or the last digit. However, you guess the 3rd digit correctly. Hence your bulls will be 1.\n",
    "\n",
    "On the other hand, if one or more digits of the secret number exist in your guess, you will get a cow.\n",
    "\n",
    "In summary, if you matched the digit with the position, you will get a bull. On the other hand, if you have the digit in a different place, it will cows.\n",
    "\n",
    "In the above guess, you have 8 in the 4th position. The 8 exists in the secret number in a different location, that's why you will get 1 cow.\n",
    "\n",
    "Hence your score will be: Bulls: 1 Cows: 1\n",
    "\n",
    "Another example- Secret number: 4271 player's try: 1234 Answer: 1 bull and 2 cows. (The bull is \"2\", the cows are \"4\" and \"1\".)"
   ]
  },
  {
   "cell_type": "code",
   "execution_count": 10,
   "metadata": {},
   "outputs": [
    {
     "name": "stdout",
     "output_type": "stream",
     "text": [
      "Guess the number. It contains 2 digits.\n",
      "Enter your guess: 29\n",
      "Yay, you guessed it!\n",
      "YOU WIN.\n"
     ]
    }
   ],
   "source": [
    "import random\n",
    " \n",
    "secret_number = str(random.randint(10, 99))\n",
    "print(\"Guess the number. It contains 2 digits.\")\n",
    " \n",
    "remaining_try = 7\n",
    " \n",
    "while remaining_try > 0:\n",
    "    player_guess = input(\"Enter your guess: \")\n",
    "    \n",
    "    if player_guess == secret_number:\n",
    "        print(\"Yay, you guessed it!\")\n",
    "        print(\"YOU WIN.\")\n",
    "        break\n",
    "    else:\n",
    "        bulls = 0\n",
    "        cows = 0\n",
    "        \n",
    "        if player_guess[0] == secret_number[0]:\n",
    "            bulls += 1\n",
    "        if player_guess[1] == secret_number[1]:\n",
    "            bulls += 1\n",
    "        if player_guess[0] == secret_number[1]:\n",
    "            cows += 1\n",
    "        if player_guess[1] == secret_number[0]:\n",
    "            cows += 1\n",
    "            \n",
    "        print(\"Bulls: \",bulls)\n",
    "        print(\"Cows: \",cows)\n",
    "        \n",
    "        remaining_try -= 1\n",
    "        \n",
    "        if remaining_try < 1:\n",
    "            print(\"You lost the game.\")\n",
    "            break"
   ]
  },
  {
   "cell_type": "markdown",
   "metadata": {},
   "source": [
    "                                 EXPLANATION"
   ]
  },
  {
   "cell_type": "markdown",
   "metadata": {},
   "source": [
    "In the beginning, we created a secret number. Then asked the user to guess the number. Also, we set the variable remaining_try to 7.\n",
    "\n",
    "This means we allow the player to guess the number 7 times. If he/she guesses the correct number within 7 tries, he/she will win. Otherwise, lose.\n",
    "\n",
    "We ran the while loop for remaining_try. If the user’s guess is correct, we say you win.\n",
    "\n",
    "Otherwise, we start counting bulls and cows. For that purpose, we start at 0 bulls and 0 cows.\n",
    "\n",
    "For bulls, we check whether the first digit in the secret_number matches with the player’s guessed number. If it matches, we increase the bulls by 1.\n",
    "\n",
    "Also, check the 2nd digit of the secret number with the player’s guess. If that matches, we increase the bulls by 1.\n",
    "\n",
    "For cows, we check whether the first digit of the secret number matches with the second digit of the player guess. Increase cows by 1. Similarly, if the 2nd digit matches with the first digit of the guess number, increase cows by 1.\n",
    "\n",
    "In summary, bulls are guessed digit matches for the same position in the secret number. And cows are the digits that match in any other position other than the current position.\n",
    "\n",
    "Then we display the bulls and cows.\n",
    "\n",
    "Finally, if there is no remaining try (remaining try < 1), print that user lost."
   ]
  },
  {
   "cell_type": "markdown",
   "metadata": {},
   "source": [
    "# Bulls and Cows (4 digits)"
   ]
  },
  {
   "cell_type": "markdown",
   "metadata": {},
   "source": [
    "# (4) Create a bulls and cows game for guessing a randomly generated 4 digits number."
   ]
  },
  {
   "cell_type": "markdown",
   "metadata": {},
   "source": [
    "HINT: This one should be easier for you. Just make sure that the random number is four digits. Hence, it should be between 1000 and 9999."
   ]
  },
  {
   "cell_type": "code",
   "execution_count": 11,
   "metadata": {},
   "outputs": [
    {
     "name": "stdout",
     "output_type": "stream",
     "text": [
      "Guess the number. It contains 4 digits.\n",
      "Enter your guess: 3482\n",
      "Bulls:  0\n",
      "Cows:  2\n",
      "Enter your guess: 2593\n",
      "Bulls:  0\n",
      "Cows:  1\n",
      "Enter your guess: 6504\n",
      "Bulls:  2\n",
      "Cows:  1\n",
      "Enter your guess: 2009\n",
      "Bulls:  1\n",
      "Cows:  2\n",
      "Enter your guess: 1687\n",
      "Bulls:  0\n",
      "Cows:  1\n",
      "Enter your guess: 7301\n",
      "Bulls:  0\n",
      "Cows:  1\n",
      "Enter your guess: 3594\n",
      "Bulls:  1\n",
      "Cows:  0\n",
      "You lost the game.\n"
     ]
    }
   ],
   "source": [
    "import random\n",
    "\n",
    "secret_number = str(random.randint(1000, 9999))\n",
    "print(\"Guess the number. It contains 4 digits.\")\n",
    "\n",
    "remaining_try = 7\n",
    "\n",
    "def get_bulls_cows(number, user_guess):\n",
    "    bulls_cows = [0,0] #cows, then bulls\n",
    "    for i in range(len(number)):\n",
    "        if user_guess[i] == number[i]:\n",
    "            bulls_cows[0] += 1\n",
    "        elif user_guess[i] in number:\n",
    "            bulls_cows[1] += 1\n",
    "    return bulls_cows\n",
    "\n",
    "while remaining_try > 0:\n",
    "    player_guess = input(\"Enter your guess: \")\n",
    "    \n",
    "    if player_guess == secret_number:\n",
    "        print(\"Yay, you guessed it!\")\n",
    "        print(\"YOU WIN.\")\n",
    "        break\n",
    "    else:\n",
    "        bulls_cows = get_bulls_cows(secret_number,player_guess)\n",
    "        \n",
    "        print(\"Bulls: \",bulls_cows[0])\n",
    "        print(\"Cows: \",bulls_cows[1])\n",
    "        \n",
    "        remaining_try -= 1\n",
    "        \n",
    "        if remaining_try < 1:\n",
    "            print(\"You lost the game.\")\n",
    "            break"
   ]
  },
  {
   "cell_type": "markdown",
   "metadata": {},
   "source": [
    "                                   EXPLANATION"
   ]
  },
  {
   "cell_type": "markdown",
   "metadata": {},
   "source": [
    "After solving the Bulls and cows for 2 digits, this one should become easier for you.\n",
    "\n",
    "However, solving this one by using if-else that we did for 2 digit bulls and cows game will become very harder.\n",
    "\n",
    "That's why we created the get_bulls_cows function. Inside that, we created a loop. For each digit, check the digit in the same place."
   ]
  },
  {
   "cell_type": "markdown",
   "metadata": {},
   "source": [
    "# (5) Build a simple word completion game.                                                         You will be given a partial word with hyphens. It’s a clue to an actual word. For example,                                                                                                                         "
   ]
  },
  {
   "cell_type": "markdown",
   "metadata": {},
   "source": [
    "# -a-e      "
   ]
  },
  {
   "cell_type": "markdown",
   "metadata": {},
   "source": [
    "# Now you have to provide a word that matches with the exposed letters. If you provide any of these words- “game” or “fame” or “lame”, your answer will be correct.     Because all these words have the letter “a” in the second position and the letter “e” in the fourth position."
   ]
  },
  {
   "cell_type": "markdown",
   "metadata": {},
   "source": [
    "# So, the idea is, your provided word has to have the same letter as the clue."
   ]
  },
  {
   "cell_type": "markdown",
   "metadata": {},
   "source": [
    "HINT:   You have to write a function that takes the clue word with hyphens and the provided answer.\n",
    "\n",
    "Then check whether the provided answer has the same letters in the same position as the clue word.\n",
    "\n",
    "And you can ignore the position with hyphens. Because the user can put any letter there."
   ]
  },
  {
   "cell_type": "code",
   "execution_count": 12,
   "metadata": {},
   "outputs": [
    {
     "name": "stdout",
     "output_type": "stream",
     "text": [
      "Your word clue: -i-e\n",
      "What would be the word: kite\n",
      "WOW!!! You win\n"
     ]
    }
   ],
   "source": [
    "import random\n",
    " \n",
    "def get_a_clue():\n",
    "    clues = ['-a-e', 'y-ll-w', 's-mm-r', 'wi-t-r','s-n-y', 'l-v-','-i-e']\n",
    "    position = random.randint(0, len(clues)-1)\n",
    "    clue = clues[position]\n",
    "    return clue\n",
    " \n",
    "def check_word_match(clue, guess):\n",
    "    if len(clue) != len(guess):\n",
    "        return False\n",
    "    for i in range (len(clue)):\n",
    "        if clue[i] != '-' and clue[i ]!= guess[i]:\n",
    "            return False\n",
    "    return True\n",
    " \n",
    "# start the game\n",
    "word_clue = get_a_clue()\n",
    "print('Your word clue:', word_clue)\n",
    "answer = input('What would be the word: ')\n",
    " \n",
    "is_matched = check_word_match(word_clue, answer)\n",
    " \n",
    "if is_matched is True:\n",
    "    print('WOW!!! You win')\n",
    "else:\n",
    "    print('Opps! you missed it.')"
   ]
  },
  {
   "cell_type": "markdown",
   "metadata": {},
   "source": [
    "# Word hangman"
   ]
  },
  {
   "cell_type": "markdown",
   "metadata": {},
   "source": [
    "# (6) Create a word hangman game."
   ]
  },
  {
   "cell_type": "markdown",
   "metadata": {},
   "source": [
    "HINT :The word hangman is a simple game. You will provide a word with the first letter. Rest of the letters will be blank. For example,\n",
    "\n",
    "s_ _ _ _ _ _ _ _ _\n",
    "\n",
    "The player has to guess the letters in the word. And the player will guess one letter at a time. If the letter exists in the word, it will appear to the player.\n",
    "\n",
    "If the letter doesn’t exist in the word, it will be counted as a wrong try.\n",
    "\n",
    "If the player exceeds the number of the wrong tries, the player will lose.\n",
    "\n",
    "Otherwise, the player will win"
   ]
  },
  {
   "cell_type": "code",
   "execution_count": 14,
   "metadata": {},
   "outputs": [
    {
     "name": "stdout",
     "output_type": "stream",
     "text": [
      "so far you got:  h___\n",
      "Enter your next letter: hard\n",
      "Wrong Try Left:  4\n",
      "so far you got:  h___\n",
      "Enter your next letter: hero\n",
      "Wrong Try Left:  3\n",
      "so far you got:  h___\n",
      "Enter your next letter: hack\n",
      "Wrong Try Left:  2\n",
      "so far you got:  h___\n",
      "Enter your next letter: hear\n",
      "Wrong Try Left:  1\n",
      "so far you got:  h___\n",
      "Enter your next letter: hope\n",
      "Wrong Try Left:  0\n",
      "so far you got:  h___\n",
      "Opps!!! You Lost\n"
     ]
    }
   ],
   "source": [
    "import random\n",
    " \n",
    "def selected_a_word():\n",
    "    words = ['working', 'hard', 'makes', 'things', 'easier', 'congrats', 'programming', 'hero']\n",
    "    word = words[random.randint(0, len(words)-1)]\n",
    "    return word\n",
    " \n",
    "def get_blank_word(word):\n",
    "    blank_word = word[0]\n",
    "    for i in range(1, len(word)):\n",
    "        blank_word += '_'\n",
    "    return blank_word\n",
    " \n",
    "def word_hangman(word, so_far, letter, try_left):\n",
    "    bad_try = True\n",
    "    for i in range(0, len(word)):\n",
    "        if word[i] == letter:\n",
    "            so_far = so_far[:i]+letter+so_far[i+1:]\n",
    "            bad_try = False\n",
    "    if bad_try is True:\n",
    "        try_left -= 1\n",
    "        print('Wrong Try Left: ', try_left)\n",
    "    print('so far you got: ', so_far)\n",
    "    if word == so_far:\n",
    "        print('YAY!!! You Win')\n",
    "    elif try_left == 0:\n",
    "        print('Opps!!! You Lost')\n",
    "    else:\n",
    "        next_letter = input ('Enter your next letter: ')\n",
    "        word_hangman(word, so_far, next_letter, try_left)\n",
    "\n",
    "# play the game\n",
    "word = selected_a_word()\n",
    "clue_word = get_blank_word(word)\n",
    "word_hangman(word, clue_word, word[0], 5)"
   ]
  },
  {
   "cell_type": "code",
   "execution_count": null,
   "metadata": {},
   "outputs": [],
   "source": []
  }
 ],
 "metadata": {
  "kernelspec": {
   "display_name": "Python 3",
   "language": "python",
   "name": "python3"
  },
  "language_info": {
   "codemirror_mode": {
    "name": "ipython",
    "version": 3
   },
   "file_extension": ".py",
   "mimetype": "text/x-python",
   "name": "python",
   "nbconvert_exporter": "python",
   "pygments_lexer": "ipython3",
   "version": "3.7.3"
  }
 },
 "nbformat": 4,
 "nbformat_minor": 2
}
